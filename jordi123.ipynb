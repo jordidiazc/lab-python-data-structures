{
 "cells": [
  {
   "cell_type": "code",
   "execution_count": 11,
   "id": "2ecc5949",
   "metadata": {},
   "outputs": [
    {
     "name": "stdout",
     "output_type": "stream",
     "text": [
      "t-shirt\n",
      "How many units do we have? 10\n",
      "mug\n",
      "How many units do we have? 20\n",
      "hat\n",
      "How many units do we have? 30\n",
      "book\n",
      "How many units do we have? 40\n",
      "keychain\n",
      "How many units do we have? 50\n",
      "{'t-shirt': 10, 'mug': 20, 'hat': 30, 'book': 40, 'keychain': 50}\n"
     ]
    }
   ],
   "source": [
    "products=[\"t-shirt\",\"mug\",\"hat\",\"book\",\"keychain\"] \n",
    "inventory={} \n",
    "for x in products: \n",
    "    print(x) \n",
    "    y=int(input(\"How many units do we have? \")) \n",
    "    inventory[x]=y \n",
    "print(inventory)"
   ]
  },
  {
   "cell_type": "code",
   "execution_count": 16,
   "id": "f760e91d",
   "metadata": {},
   "outputs": [
    {
     "name": "stdout",
     "output_type": "stream",
     "text": [
      "t-shirt\n",
      "How many units do we order? 3\n",
      "mug\n",
      "How many units do we order? 6\n",
      "hat\n",
      "How many units do we order? 9\n",
      "book\n",
      "How many units do we order? 12\n",
      "keychain\n",
      "How many units do we order? 15\n",
      "{'t-shirt': 3, 'mug': 6, 'hat': 9, 'book': 12, 'keychain': 15}\n"
     ]
    }
   ],
   "source": [
    "customer_orders={}\n",
    "for x in products:\n",
    "    print(x)\n",
    "    w=int(input(\"How many units do we order? \")) \n",
    "    customer_orders[x]=w \n",
    "print(customer_orders)"
   ]
  },
  {
   "cell_type": "code",
   "execution_count": 13,
   "id": "bb4e9ec8",
   "metadata": {},
   "outputs": [
    {
     "name": "stdout",
     "output_type": "stream",
     "text": [
      "t-shirt has 0.9 left\n",
      "mug has 0.9 left\n",
      "hat has 0.9 left\n",
      "book has 0.9 left\n",
      "keychain has 0.9 left\n"
     ]
    }
   ],
   "source": [
    "percent=[]\n",
    "for we,ew in zip(inventory.values(),customer_orders.values()):\n",
    "    per=1-ew/we\n",
    "    percent.append(per)\n",
    "for de,ed in zip(inventory.keys(),percent):\n",
    "    print(de, \"has\",ed, \"left\")"
   ]
  },
  {
   "cell_type": "code",
   "execution_count": 17,
   "id": "72f4fa4d",
   "metadata": {},
   "outputs": [
    {
     "name": "stdout",
     "output_type": "stream",
     "text": [
      "70.0%\n"
     ]
    }
   ],
   "source": [
    "je=(1-sum(customer_orders.values())/sum(inventory.values()))*100\n",
    "ej=str(je)\n",
    "eje=ej+\"%\"\n",
    "print(eje)"
   ]
  },
  {
   "cell_type": "code",
   "execution_count": 18,
   "id": "bc692439",
   "metadata": {},
   "outputs": [
    {
     "name": "stdout",
     "output_type": "stream",
     "text": [
      "{'Total products ordered': 45, 'Percentage of Products Ordered': '70.0%'}\n"
     ]
    }
   ],
   "source": [
    "order_status={\"Total products ordered\":sum(customer_orders.values()),\"Percentage of Products Ordered\": eje}\n",
    "print(order_status)"
   ]
  }
 ],
 "metadata": {
  "kernelspec": {
   "display_name": "Python 3 (ipykernel)",
   "language": "python",
   "name": "python3"
  },
  "language_info": {
   "codemirror_mode": {
    "name": "ipython",
    "version": 3
   },
   "file_extension": ".py",
   "mimetype": "text/x-python",
   "name": "python",
   "nbconvert_exporter": "python",
   "pygments_lexer": "ipython3",
   "version": "3.11.7"
  }
 },
 "nbformat": 4,
 "nbformat_minor": 5
}
